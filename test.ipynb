{
 "cells": [
  {
   "cell_type": "code",
   "execution_count": 1,
   "metadata": {},
   "outputs": [
    {
     "name": "stderr",
     "output_type": "stream",
     "text": [
      "Skipped loading some Tensorflow models, missing a dependency. No module named 'tensorflow'\n",
      "Skipped loading some PyTorch models, missing a dependency. No module named 'torch'\n",
      "Skipped loading modules with pytorch-geometric dependency, missing a dependency. No module named 'torch'\n",
      "Skipped loading modules with pytorch-lightning dependency, missing a dependency. No module named 'torch'\n",
      "Skipped loading some Jax models, missing a dependency. No module named 'jax'\n"
     ]
    }
   ],
   "source": [
    "import pandas as pd\n",
    "from tqdm.auto import tqdm\n",
    "from utils import prepare_ligand, prepare_protien, get_docking_score"
   ]
  },
  {
   "cell_type": "code",
   "execution_count": 2,
   "metadata": {},
   "outputs": [],
   "source": [
    "df = pd.read_csv('./KasA_smm_train.csv')\n",
    "smiles = df['smiles']"
   ]
  },
  {
   "cell_type": "code",
   "execution_count": 3,
   "metadata": {},
   "outputs": [],
   "source": [
    "from rdkit.rdBase import BlockLogs\n",
    "\n",
    "def dock_ligands(ligand_chunk, protien_pdb_path):\n",
    "    with BlockLogs():\n",
    "        protien_mol = prepare_protien(protien_pdb_path)\n",
    "        ligand_mols = [prepare_ligand(ligand_smiles) for ligand_smiles in ligand_chunk]\n",
    "\n",
    "        scores = []\n",
    "        for ligand_mol in ligand_mols:\n",
    "            try:\n",
    "                scores.append(get_docking_score(protien_mol, ligand_mol))\n",
    "            except Exception as e:\n",
    "                scores.append(None)\n",
    "\n",
    "        return scores"
   ]
  },
  {
   "cell_type": "code",
   "execution_count": 4,
   "metadata": {},
   "outputs": [],
   "source": [
    "def chunks(lst, n):\n",
    "    \"\"\"Yield successive n-sized chunks from lst.\"\"\"\n",
    "    for i in range(0, len(lst), n):\n",
    "        yield lst[i:i + n]"
   ]
  },
  {
   "cell_type": "code",
   "execution_count": 5,
   "metadata": {},
   "outputs": [],
   "source": [
    "from functools import partial\n",
    "func = partial(dock_ligands, protien_pdb_path='./KasA_3285_no_min.pdb')\n",
    "\n",
    "from multiprocessing import Pool\n",
    "pool = Pool(10)\n",
    "\n",
    "smiles_chunked = [chunk for chunk in chunks(smiles, 2)]\n",
    "iterable = pool.imap(func, smiles_chunked)\n",
    "scores = [s for s in tqdm(iterable, total=len(smiles_chunked))]"
   ]
  },
  {
   "cell_type": "code",
   "execution_count": null,
   "metadata": {},
   "outputs": [],
   "source": []
  }
 ],
 "metadata": {
  "kernelspec": {
   "display_name": "dock",
   "language": "python",
   "name": "python3"
  },
  "language_info": {
   "codemirror_mode": {
    "name": "ipython",
    "version": 3
   },
   "file_extension": ".py",
   "mimetype": "text/x-python",
   "name": "python",
   "nbconvert_exporter": "python",
   "pygments_lexer": "ipython3",
   "version": "3.8.18"
  }
 },
 "nbformat": 4,
 "nbformat_minor": 2
}
